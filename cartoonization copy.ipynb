{
 "cells": [
  {
   "cell_type": "code",
   "execution_count": 7,
   "metadata": {},
   "outputs": [],
   "source": [
    "# importing libraries\n",
    "import cv2\n",
    "import math\n",
    "import asyncio\n",
    "import numpy as np\n",
    "import skimage.io as io\n",
    "from scipy.stats import norm"
   ]
  },
  {
   "cell_type": "code",
   "execution_count": 8,
   "metadata": {},
   "outputs": [],
   "source": [
    "def gaussian(x, sigma):\n",
    "    return (1.0 / math.sqrt(2 * math.pi) * sigma) * math.exp(-1 * (x ** 2) / (2 * sigma ** 2))"
   ]
  },
  {
   "cell_type": "code",
   "execution_count": 9,
   "metadata": {},
   "outputs": [],
   "source": [
    "def bilateral_filter(source_img, start_raw, end_raw, start_col, end_col, sigma):\n",
    "    filtered = np.copy(source_img)\n",
    "    \n",
    "    for r in range(start_raw, end_raw):\n",
    "        for c in range(start_col, end_col):\n",
    "            ks = 0\n",
    "            w = 0\n",
    "            for i in range(-1, 2):\n",
    "                if i + c >= start_col and i + c < end_col:\n",
    "                    # Target pixel\n",
    "                    p = source_img[r][i + c]\n",
    "                    # Current pixel\n",
    "                    s = img[r][c]\n",
    "                    weight = gaussian(abs(p - s), sigma)\n",
    "                    ks += weight * p\n",
    "                    w += weight\n",
    "            filter1 = ks / w\n",
    "            for i in range(-1, 2):\n",
    "                if i + r >= start_raw and i + r < end_raw:\n",
    "                    # Target pixel\n",
    "                    p = source_img[i + r][c]\n",
    "                    # Current pixel\n",
    "                    s = img[r][c]\n",
    "                    weight = gaussian(abs(p - s), sigma)\n",
    "                    ks += weight * p\n",
    "                    w += weight\n",
    "            filter2 = ks / w\n",
    "            filtered[r][c] = (filter1 + filter2) / 2\n",
    "    return filtered"
   ]
  },
  {
   "cell_type": "code",
   "execution_count": 12,
   "metadata": {},
   "outputs": [],
   "source": [
    "# get the histogram of the image\n",
    "def get_hist(img):\n",
    "    hist_img = np.zeros((256))\n",
    "    for i in range(len(img)):\n",
    "        for j in range(len(img[0])):\n",
    "            hist_img[img[i][j]] +=1\n",
    "    return hist_img\n",
    "\n",
    "def find_median(histogram, aSize):\n",
    "    histogram = np.cumsum(histogram)\n",
    "    for i in range(len(histogram)):\n",
    "        if histogram[i] > (aSize ** 2) / 2:\n",
    "            return i\n",
    "    return 0\n",
    "\n",
    "def add_to_hist(histogram, arr):\n",
    "    for i in arr:\n",
    "        histogram[i] += 1\n",
    "\n",
    "def sub_from_hist(histogram, arr):\n",
    "    for i in arr:\n",
    "        if(histogram[i]):\n",
    "            histogram[i] -= 1\n",
    "\n",
    "async def bilateral_filter_own(img, aSize):\n",
    "    source_img = np.copy(img)\n",
    "    raw, col = source_img.shape\n",
    "    offset = aSize // 2\n",
    "    hist_img = get_hist(img[0:aSize, 0:aSize])\n",
    "    source_img[offset][offset] = find_median(hist_img, aSize)\n",
    "    i = offset\n",
    "    j = offset + 1\n",
    "    while i in range(offset, raw - offset):\n",
    "        while j in range(offset + 1, col - offset):\n",
    "            add_to_hist(hist_img, img[i - offset: i + offset + 1, j + offset])\n",
    "            sub_from_hist(hist_img, img[i - offset: i + offset + 1, j - offset])\n",
    "            source_img[i][j] = find_median(hist_img, aSize)\n",
    "            j += 1\n",
    "        i += 1\n",
    "        j = offset + 1\n",
    "        hist_img = get_hist(img[i - offset: i + offset, 0 : aSize])\n",
    "        source_img[i][j - 1] = find_median(hist_img, aSize)\n",
    "    return source_img\n"
   ]
  },
  {
   "cell_type": "code",
   "execution_count": 18,
   "metadata": {},
   "outputs": [
    {
     "name": "stdout",
     "output_type": "stream",
     "text": [
      "(688, 480)\n"
     ]
    }
   ],
   "source": [
    "# reading image\n",
    "if __name__ == \"__main__\":\n",
    "\timg = cv2.imread(\"ross.jpg\")\n",
    "\timg = cv2.cvtColor(img, cv2.COLOR_RGB2GRAY)\n",
    "\n",
    "\t'''\n",
    "\tcv2.imshow(\"ross\", img)\n",
    "\tcv2.waitKey(0)\n",
    "\tcv2.destroyAllWindows()\n",
    "\t'''\n",
    "\n",
    "\tprint(img.shape)\n",
    "\tcartoon  = bilateral_filter_own(img[200: 500, 200: 400], 7)\n",
    "\tmedian = cv2.medianBlur(img, 7)\n",
    "\t#cartoon = cv2.bilateralFilter(img, 10, 250, 250)\n",
    "\tcv2.imshow(\"ross\", cartoon)\n",
    "\tcv2.imshow(\"org ross\", median)\n",
    "\tcv2.waitKey(0)\n",
    "\tcv2.destroyAllWindows()\n",
    "\n",
    "\t'''\n",
    "\t# Edges\n",
    "\tgray = cv2.cvtColor(img, cv2.COLOR_BGR2GRAY)\n",
    "\tgray = cv2.medianBlur(gray, 5)\n",
    "\tedges = cv2.adaptiveThreshold(gray, 255, cv2.ADAPTIVE_THRESH_MEAN_C,\n",
    "\t\t\t\t\t\t\t\t\t\t\tcv2.THRESH_BINARY, 9, 9)\n",
    "\n",
    "\t# Cartoonization\n",
    "\tcolor = cv2.bilateralFilter(img, 15, 250, 250)\n",
    "\tcartoon = cv2.bitwise_and(color, color, mask=edges)\n",
    "\n",
    "\n",
    "\tcv2.imshow(\"Image\", img)\n",
    "\tcv2.imshow(\"Cartoon\", cartoon)\n",
    "\t'''\n"
   ]
  },
  {
   "cell_type": "code",
   "execution_count": null,
   "metadata": {},
   "outputs": [],
   "source": []
  }
 ],
 "metadata": {
  "interpreter": {
   "hash": "21f9ae93804595dfdaa70eaa9a712cf876af3071f40668f6fb95acfa9be0030a"
  },
  "kernelspec": {
   "display_name": "Python 3",
   "language": "python",
   "name": "python3"
  },
  "language_info": {
   "codemirror_mode": {
    "name": "ipython",
    "version": 3
   },
   "file_extension": ".py",
   "mimetype": "text/x-python",
   "name": "python",
   "nbconvert_exporter": "python",
   "pygments_lexer": "ipython3",
   "version": "3.8.3"
  }
 },
 "nbformat": 4,
 "nbformat_minor": 2
}
