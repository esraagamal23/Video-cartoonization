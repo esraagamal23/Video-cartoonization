{
 "cells": [
  {
   "cell_type": "code",
   "execution_count": 2,
   "metadata": {},
   "outputs": [],
   "source": [
    "# importing libraries\n",
    "import cv2\n",
    "import numpy as np"
   ]
  },
  {
   "cell_type": "code",
   "execution_count": 9,
   "metadata": {},
   "outputs": [
    {
     "data": {
      "text/plain": [
       "'\\ntmp_canvas = Cartoonizer()\\n\\nfile_name = \"giraffe.jpg\" #File_name will come here\\nres = tmp_canvas.render(file_name)\\n\\ncv2.imwrite(\"Cartoon version.jpg\", res)\\ncv2.imshow(\"Cartoon version\", res)\\ncv2.waitKey(0)\\ncv2.destroyAllWindows()\\n'"
      ]
     },
     "execution_count": 9,
     "metadata": {},
     "output_type": "execute_result"
    }
   ],
   "source": [
    "class Cartoonizer:\n",
    "\t\"\"\"Cartoonizer effect\n",
    "\t\tA class that applies a cartoon effect to an image.\n",
    "\t\tThe class uses a bilateral filter and adaptive thresholding to create\n",
    "\t\ta cartoon effect.\n",
    "\t\"\"\"\n",
    "\tdef __init__(self):\n",
    "\t\tpass\n",
    "\n",
    "\tdef render(self, img_rgb):\n",
    "\t\timg_rgb = cv2.imread(img_rgb)\n",
    "\t\timg_rgb = cv2.resize(img_rgb, (1366,768))\n",
    "\t\tnumDownSamples = 2\t # number of downscaling steps\n",
    "\t\tnumBilateralFilters = 50 # number of bilateral filtering steps\n",
    "\n",
    "\t\t# -- STEP 1 --\n",
    "\n",
    "\t\t# downsample image using Gaussian pyramid\n",
    "\t\timg_color = img_rgb\n",
    "\t\tfor _ in range(numDownSamples):\n",
    "\t\t\timg_color = cv2.pyrDown(img_color)\n",
    "\n",
    "\t\t#cv2.imshow(\"downcolor\",img_color)\n",
    "\t\t#cv2.waitKey(0)\n",
    "\t\t# repeatedly apply small bilateral filter instead of applying\n",
    "\t\t# one large filter\n",
    "\t\tfor _ in range(numBilateralFilters):\n",
    "\t\t\timg_color = cv2.bilateralFilter(img_color, 9, 9, 7)\n",
    "\n",
    "\t\t#cv2.imshow(\"bilateral filter\",img_color)\n",
    "\t\t#cv2.waitKey(0)\n",
    "\t\t# upsample image to original size\n",
    "\t\tfor _ in range(numDownSamples):\n",
    "\t\t\timg_color = cv2.pyrUp(img_color)\n",
    "\t\t#cv2.imshow(\"upscaling\",img_color)\n",
    "\t\t#cv2.waitKey(0)\n",
    "\n",
    "\t\t# -- STEPS 2 and 3 --\n",
    "\t\t# convert to grayscale and apply median blur\n",
    "\t\timg_gray = cv2.cvtColor(img_rgb, cv2.COLOR_RGB2GRAY)\n",
    "\t\timg_blur = cv2.medianBlur(img_gray, 3)\n",
    "\t\t#cv2.imshow(\"grayscale+median blur\",img_color)\n",
    "\t\t#cv2.waitKey(0)\n",
    "\n",
    "\t\t# -- STEP 4 --\n",
    "\t\t# detect and enhance edges\n",
    "\t\timg_edge = cv2.adaptiveThreshold(img_blur, 255,\n",
    "\t\t\t\t\t\t\t\t\t\tcv2.ADAPTIVE_THRESH_MEAN_C,\n",
    "\t\t\t\t\t\t\t\t\t\tcv2.THRESH_BINARY, 9, 2)\n",
    "\t\t#cv2.imshow(\"edge\",img_edge)\n",
    "\t\t#cv2.waitKey(0)\n",
    "\n",
    "\t\t# -- STEP 5 --\n",
    "\t\t# convert back to color so that it can be bit-ANDed with color image\n",
    "\t\t(x,y,z) = img_color.shape\n",
    "\t\timg_edge = cv2.resize(img_edge,(y,x))\n",
    "\t\timg_edge = cv2.cvtColor(img_edge, cv2.COLOR_GRAY2RGB)\n",
    "\t\tcv2.imwrite(\"edge.png\",img_edge)\n",
    "\t\t#cv2.imshow(\"step 5\", img_edge)\n",
    "\t\t#cv2.waitKey(0)\n",
    "\t\t#img_edge = cv2.resize(img_edge,(i for i in img_color.shape[:2]))\n",
    "\t\t#print img_edge.shape, img_color.shape\n",
    "\t\treturn cv2.bitwise_and(img_color, img_edge)\n",
    "\n",
    "\"\"\"\n",
    "tmp_canvas = Cartoonizer()\n",
    "\n",
    "file_name = \"giraffe.jpg\" #File_name will come here\n",
    "res = tmp_canvas.render(file_name)\n",
    "\n",
    "cv2.imwrite(\"Cartoon version.jpg\", res)\n",
    "cv2.imshow(\"Cartoon version\", res)\n",
    "cv2.waitKey(0)\n",
    "cv2.destroyAllWindows()\n",
    "\"\"\"\n"
   ]
  },
  {
   "cell_type": "code",
   "execution_count": 11,
   "metadata": {},
   "outputs": [],
   "source": [
    "# reading image\n",
    "img = cv2.imread(\"ross.jpg\")\n",
    "\n",
    "# Edges\n",
    "gray = cv2.cvtColor(img, cv2.COLOR_BGR2GRAY)\n",
    "gray = cv2.medianBlur(gray, 5)\n",
    "edges = cv2.adaptiveThreshold(gray, 255, cv2.ADAPTIVE_THRESH_MEAN_C,\n",
    "\t\t\t\t\t\t\t\t\t\tcv2.THRESH_BINARY, 9, 9)\n",
    "\n",
    "# Cartoonization\n",
    "color = cv2.bilateralFilter(img, 9, 250, 250)\n",
    "cartoon = cv2.bitwise_and(color, color, mask=edges)\n",
    "\n",
    "\n",
    "cv2.imshow(\"Image\", img)\n",
    "cv2.imshow(\"edges\", edges)\n",
    "cv2.imshow(\"Cartoon\", cartoon)\n",
    "cv2.waitKey(0)\n",
    "cv2.destroyAllWindows()\n"
   ]
  },
  {
   "cell_type": "code",
   "execution_count": null,
   "metadata": {},
   "outputs": [],
   "source": []
  }
 ],
 "metadata": {
  "interpreter": {
   "hash": "21f9ae93804595dfdaa70eaa9a712cf876af3071f40668f6fb95acfa9be0030a"
  },
  "kernelspec": {
   "display_name": "Python 3",
   "language": "python",
   "name": "python3"
  },
  "language_info": {
   "codemirror_mode": {
    "name": "ipython",
    "version": 3
   },
   "file_extension": ".py",
   "mimetype": "text/x-python",
   "name": "python",
   "nbconvert_exporter": "python",
   "pygments_lexer": "ipython3",
   "version": "3.8.3"
  }
 },
 "nbformat": 4,
 "nbformat_minor": 2
}
